{
  "nbformat": 4,
  "nbformat_minor": 0,
  "metadata": {
    "colab": {
      "name": "lstm_stock.ipynb",
      "provenance": []
    },
    "kernelspec": {
      "display_name": "Python 3",
      "name": "python3"
    }
  },
  "cells": [
    {
      "cell_type": "code",
      "metadata": {
        "id": "-GPUzR5a6M8J"
      },
      "source": [
        "from google.colab import files"
      ],
      "execution_count": null,
      "outputs": []
    },
    {
      "cell_type": "code",
      "metadata": {
        "colab": {
          "resources": {
            "http://localhost:8080/nbextensions/google.colab/files.js": {
              "data": "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",
              "ok": true,
              "headers": [
                [
                  "content-type",
                  "application/javascript"
                ]
              ],
              "status": 200,
              "status_text": ""
            }
          },
          "base_uri": "https://localhost:8080/",
          "height": 72
        },
        "id": "brf9RX9zxhEM",
        "outputId": "9b10af80-171b-4a9c-9220-ec347972a91d"
      },
      "source": [
        "upload = files.upload()"
      ],
      "execution_count": null,
      "outputs": [
        {
          "output_type": "display_data",
          "data": {
            "text/html": [
              "\n",
              "     <input type=\"file\" id=\"files-482bf692-797c-4eb9-b8fe-dbc0009b746f\" name=\"files[]\" multiple disabled\n",
              "        style=\"border:none\" />\n",
              "     <output id=\"result-482bf692-797c-4eb9-b8fe-dbc0009b746f\">\n",
              "      Upload widget is only available when the cell has been executed in the\n",
              "      current browser session. Please rerun this cell to enable.\n",
              "      </output>\n",
              "      <script src=\"/nbextensions/google.colab/files.js\"></script> "
            ],
            "text/plain": [
              "<IPython.core.display.HTML object>"
            ]
          },
          "metadata": {
            "tags": []
          }
        },
        {
          "output_type": "stream",
          "text": [
            "Saving VZ.csv to VZ.csv\n"
          ],
          "name": "stdout"
        }
      ]
    },
    {
      "cell_type": "code",
      "metadata": {
        "id": "aWX-BTR5xmbz"
      },
      "source": [
        "import io\n",
        "import pandas as pd\n",
        "df = pd.read_csv(io.BytesIO(upload['VZ.csv']))"
      ],
      "execution_count": null,
      "outputs": []
    },
    {
      "cell_type": "code",
      "metadata": {
        "colab": {
          "base_uri": "https://localhost:8080/",
          "height": 204
        },
        "id": "7HUQPdnzyBPG",
        "outputId": "eb9f796f-d4a2-4ac8-b852-3e95405f70e0"
      },
      "source": [
        "df.head()"
      ],
      "execution_count": null,
      "outputs": [
        {
          "output_type": "execute_result",
          "data": {
            "text/html": [
              "<div>\n",
              "<style scoped>\n",
              "    .dataframe tbody tr th:only-of-type {\n",
              "        vertical-align: middle;\n",
              "    }\n",
              "\n",
              "    .dataframe tbody tr th {\n",
              "        vertical-align: top;\n",
              "    }\n",
              "\n",
              "    .dataframe thead th {\n",
              "        text-align: right;\n",
              "    }\n",
              "</style>\n",
              "<table border=\"1\" class=\"dataframe\">\n",
              "  <thead>\n",
              "    <tr style=\"text-align: right;\">\n",
              "      <th></th>\n",
              "      <th>Date</th>\n",
              "      <th>Open</th>\n",
              "      <th>High</th>\n",
              "      <th>Low</th>\n",
              "      <th>Close</th>\n",
              "      <th>Adj Close</th>\n",
              "      <th>Volume</th>\n",
              "    </tr>\n",
              "  </thead>\n",
              "  <tbody>\n",
              "    <tr>\n",
              "      <th>0</th>\n",
              "      <td>1985-01-28</td>\n",
              "      <td>8.993228</td>\n",
              "      <td>9.189955</td>\n",
              "      <td>8.993228</td>\n",
              "      <td>9.105643</td>\n",
              "      <td>1.643167</td>\n",
              "      <td>1690900</td>\n",
              "    </tr>\n",
              "    <tr>\n",
              "      <th>1</th>\n",
              "      <td>1985-01-29</td>\n",
              "      <td>9.105643</td>\n",
              "      <td>9.189955</td>\n",
              "      <td>9.077539</td>\n",
              "      <td>9.175902</td>\n",
              "      <td>1.655845</td>\n",
              "      <td>2284200</td>\n",
              "    </tr>\n",
              "    <tr>\n",
              "      <th>2</th>\n",
              "      <td>1985-01-30</td>\n",
              "      <td>9.175902</td>\n",
              "      <td>9.260214</td>\n",
              "      <td>9.175902</td>\n",
              "      <td>9.260214</td>\n",
              "      <td>1.671060</td>\n",
              "      <td>1490700</td>\n",
              "    </tr>\n",
              "    <tr>\n",
              "      <th>3</th>\n",
              "      <td>1985-01-31</td>\n",
              "      <td>9.260214</td>\n",
              "      <td>9.274266</td>\n",
              "      <td>9.218059</td>\n",
              "      <td>9.246162</td>\n",
              "      <td>1.668525</td>\n",
              "      <td>1524500</td>\n",
              "    </tr>\n",
              "    <tr>\n",
              "      <th>4</th>\n",
              "      <td>1985-02-01</td>\n",
              "      <td>9.232110</td>\n",
              "      <td>9.302370</td>\n",
              "      <td>9.232110</td>\n",
              "      <td>9.232110</td>\n",
              "      <td>1.665988</td>\n",
              "      <td>2789500</td>\n",
              "    </tr>\n",
              "  </tbody>\n",
              "</table>\n",
              "</div>"
            ],
            "text/plain": [
              "         Date      Open      High       Low     Close  Adj Close   Volume\n",
              "0  1985-01-28  8.993228  9.189955  8.993228  9.105643   1.643167  1690900\n",
              "1  1985-01-29  9.105643  9.189955  9.077539  9.175902   1.655845  2284200\n",
              "2  1985-01-30  9.175902  9.260214  9.175902  9.260214   1.671060  1490700\n",
              "3  1985-01-31  9.260214  9.274266  9.218059  9.246162   1.668525  1524500\n",
              "4  1985-02-01  9.232110  9.302370  9.232110  9.232110   1.665988  2789500"
            ]
          },
          "metadata": {
            "tags": []
          },
          "execution_count": 4
        }
      ]
    },
    {
      "cell_type": "code",
      "metadata": {
        "colab": {
          "base_uri": "https://localhost:8080/"
        },
        "id": "3iWFnEBFyHI9",
        "outputId": "b537d317-e879-4ba8-d343-4e3b4aea6ac6"
      },
      "source": [
        "df.Close"
      ],
      "execution_count": null,
      "outputs": [
        {
          "output_type": "execute_result",
          "data": {
            "text/plain": [
              "0        9.105643\n",
              "1        9.175902\n",
              "2        9.260214\n",
              "3        9.246162\n",
              "4        9.232110\n",
              "          ...    \n",
              "9068    57.259998\n",
              "9069    57.270000\n",
              "9070    57.470001\n",
              "9071    58.419998\n",
              "9072    56.570000\n",
              "Name: Close, Length: 9073, dtype: float64"
            ]
          },
          "metadata": {
            "tags": []
          },
          "execution_count": 5
        }
      ]
    },
    {
      "cell_type": "code",
      "metadata": {
        "id": "NFvGeleW-aj0"
      },
      "source": [
        "df1  = df.fillna(method='pad')"
      ],
      "execution_count": null,
      "outputs": []
    },
    {
      "cell_type": "code",
      "metadata": {
        "id": "BsxfbAv4yLpr"
      },
      "source": [
        "df1 =  df.reset_index()['Close']"
      ],
      "execution_count": null,
      "outputs": []
    },
    {
      "cell_type": "code",
      "metadata": {
        "colab": {
          "base_uri": "https://localhost:8080/"
        },
        "id": "144JB7iQFCOl",
        "outputId": "f9a14df4-e1da-40c6-b524-b83323f58ca2"
      },
      "source": [
        "pd.isnull(df1).sum()"
      ],
      "execution_count": null,
      "outputs": [
        {
          "output_type": "execute_result",
          "data": {
            "text/plain": [
              "0"
            ]
          },
          "metadata": {
            "tags": []
          },
          "execution_count": 12
        }
      ]
    },
    {
      "cell_type": "code",
      "metadata": {
        "colab": {
          "base_uri": "https://localhost:8080/"
        },
        "id": "1pM9X8NmylWi",
        "outputId": "65fc56f1-85e5-45e3-c312-a5e0e5d8daa6"
      },
      "source": [
        "df1.head()"
      ],
      "execution_count": null,
      "outputs": [
        {
          "output_type": "execute_result",
          "data": {
            "text/plain": [
              "0    9.105643\n",
              "1    9.175902\n",
              "2    9.260214\n",
              "3    9.246162\n",
              "4    9.232110\n",
              "Name: Close, dtype: float64"
            ]
          },
          "metadata": {
            "tags": []
          },
          "execution_count": 13
        }
      ]
    },
    {
      "cell_type": "code",
      "metadata": {
        "id": "wAsJLLjPyngW"
      },
      "source": [
        "import matplotlib.pyplot as plt"
      ],
      "execution_count": null,
      "outputs": []
    },
    {
      "cell_type": "code",
      "metadata": {
        "colab": {
          "base_uri": "https://localhost:8080/",
          "height": 282
        },
        "id": "MymIXLPGyvgM",
        "outputId": "7846222a-4136-42cd-9f9b-dc0f6baed0b0"
      },
      "source": [
        "plt.plot(df1)"
      ],
      "execution_count": null,
      "outputs": [
        {
          "output_type": "execute_result",
          "data": {
            "text/plain": [
              "[<matplotlib.lines.Line2D at 0x7f50b6a24eb8>]"
            ]
          },
          "metadata": {
            "tags": []
          },
          "execution_count": 15
        },
        {
          "output_type": "display_data",
          "data": {
            "image/png": "[encoded data removed]",
            "text/plain": [
              "<Figure size 432x288 with 1 Axes>"
            ]
          },
          "metadata": {
            "tags": [],
            "needs_background": "light"
          }
        }
      ]
    },
    {
      "cell_type": "code",
      "metadata": {
        "id": "yukOMTUSy-Nx"
      },
      "source": [
        "from sklearn.preprocessing import MinMaxScaler"
      ],
      "execution_count": null,
      "outputs": []
    },
    {
      "cell_type": "code",
      "metadata": {
        "id": "47j3SZyOzO_T"
      },
      "source": [
        "scaler = MinMaxScaler(feature_range=(0,1))"
      ],
      "execution_count": null,
      "outputs": []
    },
    {
      "cell_type": "code",
      "metadata": {
        "id": "jtZ2YcftzahM"
      },
      "source": [
        "import numpy as np"
      ],
      "execution_count": null,
      "outputs": []
    },
    {
      "cell_type": "code",
      "metadata": {
        "id": "OOh32U38zvRz"
      },
      "source": [
        "a  = np.array(df1).reshape(-1,1)"
      ],
      "execution_count": null,
      "outputs": []
    },
    {
      "cell_type": "code",
      "metadata": {
        "colab": {
          "base_uri": "https://localhost:8080/"
        },
        "id": "VhVTjztKzyKl",
        "outputId": "f6b3351e-8ebd-4f57-ddc2-a2fa28e19ea3"
      },
      "source": [
        "a"
      ],
      "execution_count": null,
      "outputs": [
        {
          "output_type": "execute_result",
          "data": {
            "text/plain": [
              "array([[ 9.105643],\n",
              "       [ 9.175902],\n",
              "       [ 9.260214],\n",
              "       ...,\n",
              "       [57.470001],\n",
              "       [58.419998],\n",
              "       [56.57    ]])"
            ]
          },
          "metadata": {
            "tags": []
          },
          "execution_count": 20
        }
      ]
    },
    {
      "cell_type": "code",
      "metadata": {
        "id": "j-bbMLlDzfUX"
      },
      "source": [
        "df1 = scaler.fit_transform(np.array(df1).reshape(-1,1))"
      ],
      "execution_count": null,
      "outputs": []
    },
    {
      "cell_type": "code",
      "metadata": {
        "colab": {
          "base_uri": "https://localhost:8080/"
        },
        "id": "VmSoDAPEz7JX",
        "outputId": "d9e16056-2058-4c8d-898e-907af90952c6"
      },
      "source": [
        "df1"
      ],
      "execution_count": null,
      "outputs": [
        {
          "output_type": "execute_result",
          "data": {
            "text/plain": [
              "array([[0.        ],\n",
              "       [0.00131578],\n",
              "       [0.00289474],\n",
              "       ...,\n",
              "       [0.9057456 ],\n",
              "       [0.92353671],\n",
              "       [0.8888908 ]])"
            ]
          },
          "metadata": {
            "tags": []
          },
          "execution_count": 22
        }
      ]
    },
    {
      "cell_type": "code",
      "metadata": {
        "id": "BR8rQhN9z8Nq"
      },
      "source": [
        "training_size = int(len(df1)*0.70)"
      ],
      "execution_count": null,
      "outputs": []
    },
    {
      "cell_type": "code",
      "metadata": {
        "colab": {
          "base_uri": "https://localhost:8080/"
        },
        "id": "xjsJ0YS00j3d",
        "outputId": "ddd2df1f-b3d2-4893-d5ef-e124d6698027"
      },
      "source": [
        "training_size"
      ],
      "execution_count": null,
      "outputs": [
        {
          "output_type": "execute_result",
          "data": {
            "text/plain": [
              "6351"
            ]
          },
          "metadata": {
            "tags": []
          },
          "execution_count": 24
        }
      ]
    },
    {
      "cell_type": "code",
      "metadata": {
        "id": "49a8kZdU0mmz"
      },
      "source": [
        "testing_size = int(len(df1)) - training_size"
      ],
      "execution_count": null,
      "outputs": []
    },
    {
      "cell_type": "code",
      "metadata": {
        "colab": {
          "base_uri": "https://localhost:8080/"
        },
        "id": "-jAMHcwg0zpk",
        "outputId": "fdd5d9b4-f11c-4846-c686-48bf06200502"
      },
      "source": [
        "testing_size"
      ],
      "execution_count": null,
      "outputs": [
        {
          "output_type": "execute_result",
          "data": {
            "text/plain": [
              "2722"
            ]
          },
          "metadata": {
            "tags": []
          },
          "execution_count": 26
        }
      ]
    },
    {
      "cell_type": "code",
      "metadata": {
        "id": "wGR0M3Wz3R4D"
      },
      "source": [
        "train_data,test_data = df1[0:training_size,:],df1[training_size:len(df1),:]"
      ],
      "execution_count": null,
      "outputs": []
    },
    {
      "cell_type": "code",
      "metadata": {
        "colab": {
          "base_uri": "https://localhost:8080/"
        },
        "id": "KyaG9t-X3SK5",
        "outputId": "2ca9d033-3dbd-4dd6-a9e3-e088aa97a147"
      },
      "source": [
        "train_data"
      ],
      "execution_count": null,
      "outputs": [
        {
          "output_type": "execute_result",
          "data": {
            "text/plain": [
              "array([[0.        ],\n",
              "       [0.00131578],\n",
              "       [0.00289474],\n",
              "       ...,\n",
              "       [0.37432003],\n",
              "       [0.37888676],\n",
              "       [0.38204832]])"
            ]
          },
          "metadata": {
            "tags": []
          },
          "execution_count": 28
        }
      ]
    },
    {
      "cell_type": "code",
      "metadata": {
        "id": "3NfotheG01DF"
      },
      "source": [
        "import numpy\n",
        "def create_dataset(dataset, time_step=1):\n",
        "\tdataX, dataY = [], []\n",
        "\tfor i in range(len(dataset)-time_step-1):\n",
        "\t\ta = dataset[i:(i+time_step), 0]   ###i=0, 0,1,2,3-----99   100 \n",
        "\t\tdataX.append(a)\n",
        "\t\tdataY.append(dataset[i + time_step, 0])\n",
        "\treturn numpy.array(dataX), numpy.array(dataY)"
      ],
      "execution_count": null,
      "outputs": []
    },
    {
      "cell_type": "code",
      "metadata": {
        "id": "ot68up0F1w7E"
      },
      "source": [
        "time_step = 100\n",
        "X_train, y_train = create_dataset(train_data, time_step)\n",
        "X_test, ytest = create_dataset(test_data, time_step)"
      ],
      "execution_count": null,
      "outputs": []
    },
    {
      "cell_type": "code",
      "metadata": {
        "colab": {
          "base_uri": "https://localhost:8080/"
        },
        "id": "BJaWT0hF16y2",
        "outputId": "c439f3f4-e99e-4aae-db9a-b1d09cbb8019"
      },
      "source": [
        "X_train.shape"
      ],
      "execution_count": null,
      "outputs": [
        {
          "output_type": "execute_result",
          "data": {
            "text/plain": [
              "(6250, 100)"
            ]
          },
          "metadata": {
            "tags": []
          },
          "execution_count": 31
        }
      ]
    },
    {
      "cell_type": "code",
      "metadata": {
        "colab": {
          "base_uri": "https://localhost:8080/"
        },
        "id": "WcmbhzO45IJ1",
        "outputId": "753e7b2f-71fe-4221-e573-abb737f591d1"
      },
      "source": [
        "X_train.shape[0]"
      ],
      "execution_count": null,
      "outputs": [
        {
          "output_type": "execute_result",
          "data": {
            "text/plain": [
              "6250"
            ]
          },
          "metadata": {
            "tags": []
          },
          "execution_count": 32
        }
      ]
    },
    {
      "cell_type": "code",
      "metadata": {
        "id": "pcLzIzHN5up9"
      },
      "source": [
        "X_train = X_train.reshape(X_train.shape[0],X_train.shape[1],1)\n",
        "X_test = X_test.reshape(X_test.shape[0],X_test.shape[1],1)"
      ],
      "execution_count": null,
      "outputs": []
    },
    {
      "cell_type": "code",
      "metadata": {
        "colab": {
          "base_uri": "https://localhost:8080/"
        },
        "id": "r-nLDaUz6Q8l",
        "outputId": "d4895758-c2a4-49c9-a432-84e306259e70"
      },
      "source": [
        "X_train"
      ],
      "execution_count": null,
      "outputs": [
        {
          "output_type": "execute_result",
          "data": {
            "text/plain": [
              "array([[[0.        ],\n",
              "        [0.00131578],\n",
              "        [0.00289474],\n",
              "        ...,\n",
              "        [0.02210526],\n",
              "        [0.02263158],\n",
              "        [0.02157894]],\n",
              "\n",
              "       [[0.00131578],\n",
              "        [0.00289474],\n",
              "        [0.00263158],\n",
              "        ...,\n",
              "        [0.02263158],\n",
              "        [0.02157894],\n",
              "        [0.0218421 ]],\n",
              "\n",
              "       [[0.00289474],\n",
              "        [0.00263158],\n",
              "        [0.00236842],\n",
              "        ...,\n",
              "        [0.02157894],\n",
              "        [0.0218421 ],\n",
              "        [0.02447368]],\n",
              "\n",
              "       ...,\n",
              "\n",
              "       [[0.34006952],\n",
              "        [0.34059646],\n",
              "        [0.34428498],\n",
              "        ...,\n",
              "        [0.36184934],\n",
              "        [0.36290318],\n",
              "        [0.36430834]],\n",
              "\n",
              "       [[0.34059646],\n",
              "        [0.34428498],\n",
              "        [0.34867607],\n",
              "        ...,\n",
              "        [0.36290318],\n",
              "        [0.36430834],\n",
              "        [0.37800855]],\n",
              "\n",
              "       [[0.34428498],\n",
              "        [0.34867607],\n",
              "        [0.35939034],\n",
              "        ...,\n",
              "        [0.36430834],\n",
              "        [0.37800855],\n",
              "        [0.37432003]]])"
            ]
          },
          "metadata": {
            "tags": []
          },
          "execution_count": 34
        }
      ]
    },
    {
      "cell_type": "code",
      "metadata": {
        "id": "thlIEn2X6vhd"
      },
      "source": [
        "from tensorflow.keras.models import Sequential\n",
        "from tensorflow.keras.layers import LSTM\n",
        "from tensorflow.keras.layers import Dense\n",
        "from tensorflow.keras.layers import Dropout"
      ],
      "execution_count": null,
      "outputs": []
    },
    {
      "cell_type": "code",
      "metadata": {
        "id": "ojvyQQRK7uAP"
      },
      "source": [
        "model  =  Sequential()\n",
        "model.add(LSTM(64,return_sequences = True,input_shape=(100,1)))\n",
        "model.add(Dense(64, activation='relu'))\n",
        "model.add(Dropout(0.2))\n",
        "model.add(LSTM(64, return_sequences= False))\n",
        "model.add(Dense(64, activation='relu'))\n",
        "model.add(Dropout(0.2))\n",
        "model.add(Dense(100, activation='linear'))"
      ],
      "execution_count": null,
      "outputs": []
    },
    {
      "cell_type": "code",
      "metadata": {
        "id": "C8McqxGO8lpp"
      },
      "source": [
        "model.compile(loss = 'mean_squared_error', optimizer='adam')"
      ],
      "execution_count": null,
      "outputs": []
    },
    {
      "cell_type": "code",
      "metadata": {
        "colab": {
          "base_uri": "https://localhost:8080/"
        },
        "id": "MI6gYcLT8zWH",
        "outputId": "b9162acd-544b-438e-f824-c092fac7cc47"
      },
      "source": [
        "model.summary()"
      ],
      "execution_count": null,
      "outputs": [
        {
          "output_type": "stream",
          "text": [
            "Model: \"sequential_1\"\n",
            "_________________________________________________________________\n",
            "Layer (type)                 Output Shape              Param #   \n",
            "=================================================================\n",
            "lstm_2 (LSTM)                (None, 100, 64)           16896     \n",
            "_________________________________________________________________\n",
            "dense_1 (Dense)              (None, 100, 64)           4160      \n",
            "_________________________________________________________________\n",
            "dropout_1 (Dropout)          (None, 100, 64)           0         \n",
            "_________________________________________________________________\n",
            "lstm_3 (LSTM)                (None, 64)                33024     \n",
            "_________________________________________________________________\n",
            "dense_2 (Dense)              (None, 64)                4160      \n",
            "_________________________________________________________________\n",
            "dropout_2 (Dropout)          (None, 64)                0         \n",
            "_________________________________________________________________\n",
            "dense_3 (Dense)              (None, 100)               6500      \n",
            "=================================================================\n",
            "Total params: 64,740\n",
            "Trainable params: 64,740\n",
            "Non-trainable params: 0\n",
            "_________________________________________________________________\n"
          ],
          "name": "stdout"
        }
      ]
    },
    {
      "cell_type": "code",
      "metadata": {
        "colab": {
          "base_uri": "https://localhost:8080/"
        },
        "id": "norjk7mh83M2",
        "outputId": "89f6fe91-1f1d-41b0-c627-d2a41ada027d"
      },
      "source": [
        "model.fit(X_train,y_train,validation_data=(X_test,ytest),epochs=5,batch_size=64)"
      ],
      "execution_count": null,
      "outputs": [
        {
          "output_type": "stream",
          "text": [
            "Epoch 1/5\n",
            "98/98 [==============================] - 19s 161ms/step - loss: 0.0935 - val_loss: 0.0022\n",
            "Epoch 2/5\n",
            "98/98 [==============================] - 15s 155ms/step - loss: 0.0069 - val_loss: 6.9140e-04\n",
            "Epoch 3/5\n",
            "98/98 [==============================] - 16s 159ms/step - loss: 0.0043 - val_loss: 9.2876e-04\n",
            "Epoch 4/5\n",
            "98/98 [==============================] - 15s 155ms/step - loss: 0.0034 - val_loss: 0.0016\n",
            "Epoch 5/5\n",
            "98/98 [==============================] - 15s 155ms/step - loss: 0.0028 - val_loss: 6.4257e-04\n"
          ],
          "name": "stdout"
        },
        {
          "output_type": "execute_result",
          "data": {
            "text/plain": [
              "<tensorflow.python.keras.callbacks.History at 0x7f506d96c6d8>"
            ]
          },
          "metadata": {
            "tags": []
          },
          "execution_count": 43
        }
      ]
    },
    {
      "cell_type": "code",
      "metadata": {
        "id": "womkxNBk9cDt"
      },
      "source": [
        "### Lets Do the prediction and check performance metrics\n",
        "train_predict=model.predict(X_train)\n",
        "test_predict=model.predict(X_test)"
      ],
      "execution_count": null,
      "outputs": []
    },
    {
      "cell_type": "code",
      "metadata": {
        "id": "u5EN7pIw-C-0"
      },
      "source": [
        "##Transformback to original form\n",
        "train_predict=scaler.inverse_transform(train_predict)\n",
        "test_predict=scaler.inverse_transform(test_predict)"
      ],
      "execution_count": null,
      "outputs": []
    },
    {
      "cell_type": "code",
      "metadata": {
        "colab": {
          "base_uri": "https://localhost:8080/",
          "height": 340
        },
        "id": "uYZEVuMt-IPK",
        "outputId": "70e815a6-2711-4d15-ccee-4bf0d6ae0fa5"
      },
      "source": [
        "### Calculate RMSE performance metrics\n",
        "import math\n",
        "from sklearn.metrics import mean_squared_error\n",
        "math.sqrt(mean_squared_error(y_train,train_predict))"
      ],
      "execution_count": null,
      "outputs": [
        {
          "output_type": "error",
          "ename": "ValueError",
          "evalue": "ignored",
          "traceback": [
            "\u001b[0;31m---------------------------------------------------------------------------\u001b[0m",
            "\u001b[0;31mValueError\u001b[0m                                Traceback (most recent call last)",
            "\u001b[0;32m<ipython-input-46-4559bd053857>\u001b[0m in \u001b[0;36m<module>\u001b[0;34m()\u001b[0m\n\u001b[1;32m      2\u001b[0m \u001b[0;32mimport\u001b[0m \u001b[0mmath\u001b[0m\u001b[0;34m\u001b[0m\u001b[0;34m\u001b[0m\u001b[0m\n\u001b[1;32m      3\u001b[0m \u001b[0;32mfrom\u001b[0m \u001b[0msklearn\u001b[0m\u001b[0;34m.\u001b[0m\u001b[0mmetrics\u001b[0m \u001b[0;32mimport\u001b[0m \u001b[0mmean_squared_error\u001b[0m\u001b[0;34m\u001b[0m\u001b[0;34m\u001b[0m\u001b[0m\n\u001b[0;32m----> 4\u001b[0;31m \u001b[0mmath\u001b[0m\u001b[0;34m.\u001b[0m\u001b[0msqrt\u001b[0m\u001b[0;34m(\u001b[0m\u001b[0mmean_squared_error\u001b[0m\u001b[0;34m(\u001b[0m\u001b[0my_train\u001b[0m\u001b[0;34m,\u001b[0m\u001b[0mtrain_predict\u001b[0m\u001b[0;34m)\u001b[0m\u001b[0;34m)\u001b[0m\u001b[0;34m\u001b[0m\u001b[0;34m\u001b[0m\u001b[0m\n\u001b[0m",
            "\u001b[0;32m/usr/local/lib/python3.6/dist-packages/sklearn/metrics/_regression.py\u001b[0m in \u001b[0;36mmean_squared_error\u001b[0;34m(y_true, y_pred, sample_weight, multioutput, squared)\u001b[0m\n\u001b[1;32m    250\u001b[0m     \"\"\"\n\u001b[1;32m    251\u001b[0m     y_type, y_true, y_pred, multioutput = _check_reg_targets(\n\u001b[0;32m--> 252\u001b[0;31m         y_true, y_pred, multioutput)\n\u001b[0m\u001b[1;32m    253\u001b[0m     \u001b[0mcheck_consistent_length\u001b[0m\u001b[0;34m(\u001b[0m\u001b[0my_true\u001b[0m\u001b[0;34m,\u001b[0m \u001b[0my_pred\u001b[0m\u001b[0;34m,\u001b[0m \u001b[0msample_weight\u001b[0m\u001b[0;34m)\u001b[0m\u001b[0;34m\u001b[0m\u001b[0;34m\u001b[0m\u001b[0m\n\u001b[1;32m    254\u001b[0m     output_errors = np.average((y_true - y_pred) ** 2, axis=0,\n",
            "\u001b[0;32m/usr/local/lib/python3.6/dist-packages/sklearn/metrics/_regression.py\u001b[0m in \u001b[0;36m_check_reg_targets\u001b[0;34m(y_true, y_pred, multioutput, dtype)\u001b[0m\n\u001b[1;32m     94\u001b[0m     \u001b[0;32mif\u001b[0m \u001b[0my_true\u001b[0m\u001b[0;34m.\u001b[0m\u001b[0mshape\u001b[0m\u001b[0;34m[\u001b[0m\u001b[0;36m1\u001b[0m\u001b[0;34m]\u001b[0m \u001b[0;34m!=\u001b[0m \u001b[0my_pred\u001b[0m\u001b[0;34m.\u001b[0m\u001b[0mshape\u001b[0m\u001b[0;34m[\u001b[0m\u001b[0;36m1\u001b[0m\u001b[0;34m]\u001b[0m\u001b[0;34m:\u001b[0m\u001b[0;34m\u001b[0m\u001b[0;34m\u001b[0m\u001b[0m\n\u001b[1;32m     95\u001b[0m         raise ValueError(\"y_true and y_pred have different number of output \"\n\u001b[0;32m---> 96\u001b[0;31m                          \"({0}!={1})\".format(y_true.shape[1], y_pred.shape[1]))\n\u001b[0m\u001b[1;32m     97\u001b[0m \u001b[0;34m\u001b[0m\u001b[0m\n\u001b[1;32m     98\u001b[0m     \u001b[0mn_outputs\u001b[0m \u001b[0;34m=\u001b[0m \u001b[0my_true\u001b[0m\u001b[0;34m.\u001b[0m\u001b[0mshape\u001b[0m\u001b[0;34m[\u001b[0m\u001b[0;36m1\u001b[0m\u001b[0;34m]\u001b[0m\u001b[0;34m\u001b[0m\u001b[0;34m\u001b[0m\u001b[0m\n",
            "\u001b[0;31mValueError\u001b[0m: y_true and y_pred have different number of output (1!=100)"
          ]
        }
      ]
    },
    {
      "cell_type": "code",
      "metadata": {
        "colab": {
          "base_uri": "https://localhost:8080/"
        },
        "id": "Vm6QU_z9BEfz",
        "outputId": "12388c8a-05e8-4fe5-cc97-8610217fcfeb"
      },
      "source": [
        "### Test Data RMSE\n",
        "math.sqrt(mean_squared_error(ytest,test_predict))"
      ],
      "execution_count": null,
      "outputs": [
        {
          "output_type": "execute_result",
          "data": {
            "text/plain": [
              "49.46421604684567"
            ]
          },
          "metadata": {
            "tags": []
          },
          "execution_count": 40
        }
      ]
    },
    {
      "cell_type": "code",
      "metadata": {
        "colab": {
          "base_uri": "https://localhost:8080/",
          "height": 265
        },
        "id": "QubUgV6xBMIb",
        "outputId": "1312287e-494f-40a1-e129-ab66d02db0d3"
      },
      "source": [
        "# shift train predictions for plotting\n",
        "look_back=100\n",
        "trainPredictPlot = numpy.empty_like(df1)\n",
        "trainPredictPlot[:, :] = np.nan\n",
        "trainPredictPlot[look_back:len(train_predict)+look_back, :] = train_predict\n",
        "# shift test predictions for plotting\n",
        "testPredictPlot = numpy.empty_like(df1)\n",
        "testPredictPlot[:, :] = numpy.nan\n",
        "testPredictPlot[len(train_predict)+(look_back*2)+1:len(df1)-1, :] = test_predict\n",
        "# plot baseline and predictions\n",
        "plt.plot(scaler.inverse_transform(df1))\n",
        "plt.plot(trainPredictPlot)\n",
        "plt.plot(testPredictPlot)\n",
        "plt.show()"
      ],
      "execution_count": null,
      "outputs": [
        {
          "output_type": "display_data",
          "data": {
            "image/png": "[encoded data removed]",
            "text/plain": [
              "<Figure size 432x288 with 1 Axes>"
            ]
          },
          "metadata": {
            "tags": []
          }
        }
      ]
    },
    {
      "cell_type": "code",
      "metadata": {
        "colab": {
          "base_uri": "https://localhost:8080/",
          "height": 265
        },
        "id": "27ehBc665ztj",
        "outputId": "178dab42-5534-43af-861f-c8a5b9ab2ff7"
      },
      "source": [
        "plt.plot(df1)\n",
        "plt.show()"
      ],
      "execution_count": null,
      "outputs": [
        {
          "output_type": "display_data",
          "data": {
            "image/png": "[encoded data removed]",
            "text/plain": [
              "<Figure size 432x288 with 1 Axes>"
            ]
          },
          "metadata": {
            "tags": []
          }
        }
      ]
    },
    {
      "cell_type": "code",
      "metadata": {
        "colab": {
          "base_uri": "https://localhost:8080/"
        },
        "id": "gEiAZyyiBQ7c",
        "outputId": "1af49804-8d23-4d70-eecd-57b4e9235083"
      },
      "source": [
        "len(test_data)"
      ],
      "execution_count": null,
      "outputs": [
        {
          "output_type": "execute_result",
          "data": {
            "text/plain": [
              "2722"
            ]
          },
          "metadata": {
            "tags": []
          },
          "execution_count": 44
        }
      ]
    },
    {
      "cell_type": "code",
      "metadata": {
        "colab": {
          "base_uri": "https://localhost:8080/"
        },
        "id": "ZPdmdakwBWXt",
        "outputId": "8bb74d1d-ed01-4485-d66e-f619dec77764"
      },
      "source": [
        "x_input=test_data[2622:].reshape(1,-1)\n",
        "x_input.shape"
      ],
      "execution_count": null,
      "outputs": [
        {
          "output_type": "execute_result",
          "data": {
            "text/plain": [
              "(1, 100)"
            ]
          },
          "metadata": {
            "tags": []
          },
          "execution_count": 45
        }
      ]
    },
    {
      "cell_type": "code",
      "metadata": {
        "id": "NbAzlTokBZhu"
      },
      "source": [
        "temp_input=list(x_input)\n",
        "temp_input=temp_input[0].tolist()"
      ],
      "execution_count": null,
      "outputs": []
    },
    {
      "cell_type": "code",
      "metadata": {
        "colab": {
          "base_uri": "https://localhost:8080/"
        },
        "id": "Z-o0a8qaBcT0",
        "outputId": "2c296567-ff04-4beb-b509-8edb0fd34dad"
      },
      "source": [
        "# demonstrate prediction for next 10 days\n",
        "from numpy import array\n",
        "\n",
        "lst_output=[]\n",
        "n_steps=100\n",
        "i=0\n",
        "while(i<30):\n",
        "    \n",
        "    if(len(temp_input)>100):\n",
        "        #print(temp_input)\n",
        "        x_input=np.array(temp_input[1:])\n",
        "        print(\"{} day input {}\".format(i,x_input))\n",
        "        x_input=x_input.reshape(1,-1)\n",
        "        x_input = x_input.reshape((1, n_steps, 1))\n",
        "        #print(x_input)\n",
        "        yhat = model.predict(x_input, verbose=0)\n",
        "        print(\"{} day output {}\".format(i,yhat))\n",
        "        temp_input.extend(yhat[0].tolist())\n",
        "        temp_input=temp_input[1:]\n",
        "        #print(temp_input)\n",
        "        lst_output.extend(yhat.tolist())\n",
        "        i=i+1\n",
        "    else:\n",
        "        x_input = x_input.reshape((1, n_steps,1))\n",
        "        yhat = model.predict(x_input, verbose=0)\n",
        "        print(yhat[0])\n",
        "        temp_input.extend(yhat[0].tolist())\n",
        "        print(len(temp_input))\n",
        "        lst_output.extend(yhat.tolist())\n",
        "        i=i+1\n",
        "    \n",
        "\n",
        "print(lst_output)"
      ],
      "execution_count": null,
      "outputs": [
        {
          "output_type": "stream",
          "text": [
            "[0.9295731]\n",
            "101\n",
            "1 day input [0.96455009 0.96211549 0.95237715 0.95387539 0.94432431 0.9491935\n",
            " 0.95911908 0.96436276 0.96005544 0.96417552 0.95968087 0.94582255\n",
            " 0.94975531 0.93271325 0.93795694 0.94170245 0.94114066 0.93889337\n",
            " 0.94357526 0.94282614 0.93889337 0.94675891 0.94301338 0.94582255\n",
            " 0.93795694 0.94057885 0.94469886 0.94114066 0.92372403 0.91866759\n",
            " 0.91660754 0.90256188 0.90162553 0.89226175 0.90312377 0.91492206\n",
            " 0.91211297 0.90406013 0.88402165 0.89244899 0.8967564  0.91005294\n",
            " 0.9109893  0.90106372 0.91848035 0.92559676 0.95012986 0.97372653\n",
            " 0.97185381 0.96792105 0.97297748 0.96979376 0.96717193 0.95911908\n",
            " 0.95705904 0.95387539 0.95743361 0.96511188 0.96080456 0.96398828\n",
            " 0.96080456 0.96398828 0.97859575 0.98571223 0.98215394 0.97840842\n",
            " 0.98028123 0.98046846 0.96267728 0.95968087 0.95275172 0.9634264\n",
            " 0.95144079 0.95331351 0.96174092 0.94357526 0.93421149 0.93364961\n",
            " 0.93140232 0.93402418 0.93084051 0.91829302 0.92971684 0.93158956\n",
            " 0.9265332  0.93982973 0.92559676 0.91192566 0.90555829 0.90181276\n",
            " 0.89806731 0.89769276 0.90406013 0.89788    0.90181276 0.90200008\n",
            " 0.9057456  0.92353671 0.8888908  0.92957312]\n",
            "1 day output [[0.9340518]]\n",
            "2 day input [0.96211549 0.95237715 0.95387539 0.94432431 0.9491935  0.95911908\n",
            " 0.96436276 0.96005544 0.96417552 0.95968087 0.94582255 0.94975531\n",
            " 0.93271325 0.93795694 0.94170245 0.94114066 0.93889337 0.94357526\n",
            " 0.94282614 0.93889337 0.94675891 0.94301338 0.94582255 0.93795694\n",
            " 0.94057885 0.94469886 0.94114066 0.92372403 0.91866759 0.91660754\n",
            " 0.90256188 0.90162553 0.89226175 0.90312377 0.91492206 0.91211297\n",
            " 0.90406013 0.88402165 0.89244899 0.8967564  0.91005294 0.9109893\n",
            " 0.90106372 0.91848035 0.92559676 0.95012986 0.97372653 0.97185381\n",
            " 0.96792105 0.97297748 0.96979376 0.96717193 0.95911908 0.95705904\n",
            " 0.95387539 0.95743361 0.96511188 0.96080456 0.96398828 0.96080456\n",
            " 0.96398828 0.97859575 0.98571223 0.98215394 0.97840842 0.98028123\n",
            " 0.98046846 0.96267728 0.95968087 0.95275172 0.9634264  0.95144079\n",
            " 0.95331351 0.96174092 0.94357526 0.93421149 0.93364961 0.93140232\n",
            " 0.93402418 0.93084051 0.91829302 0.92971684 0.93158956 0.9265332\n",
            " 0.93982973 0.92559676 0.91192566 0.90555829 0.90181276 0.89806731\n",
            " 0.89769276 0.90406013 0.89788    0.90181276 0.90200008 0.9057456\n",
            " 0.92353671 0.8888908  0.92957312 0.93405181]\n",
            "2 day output [[0.94039357]]\n",
            "3 day input [0.95237715 0.95387539 0.94432431 0.9491935  0.95911908 0.96436276\n",
            " 0.96005544 0.96417552 0.95968087 0.94582255 0.94975531 0.93271325\n",
            " 0.93795694 0.94170245 0.94114066 0.93889337 0.94357526 0.94282614\n",
            " 0.93889337 0.94675891 0.94301338 0.94582255 0.93795694 0.94057885\n",
            " 0.94469886 0.94114066 0.92372403 0.91866759 0.91660754 0.90256188\n",
            " 0.90162553 0.89226175 0.90312377 0.91492206 0.91211297 0.90406013\n",
            " 0.88402165 0.89244899 0.8967564  0.91005294 0.9109893  0.90106372\n",
            " 0.91848035 0.92559676 0.95012986 0.97372653 0.97185381 0.96792105\n",
            " 0.97297748 0.96979376 0.96717193 0.95911908 0.95705904 0.95387539\n",
            " 0.95743361 0.96511188 0.96080456 0.96398828 0.96080456 0.96398828\n",
            " 0.97859575 0.98571223 0.98215394 0.97840842 0.98028123 0.98046846\n",
            " 0.96267728 0.95968087 0.95275172 0.9634264  0.95144079 0.95331351\n",
            " 0.96174092 0.94357526 0.93421149 0.93364961 0.93140232 0.93402418\n",
            " 0.93084051 0.91829302 0.92971684 0.93158956 0.9265332  0.93982973\n",
            " 0.92559676 0.91192566 0.90555829 0.90181276 0.89806731 0.89769276\n",
            " 0.90406013 0.89788    0.90181276 0.90200008 0.9057456  0.92353671\n",
            " 0.8888908  0.92957312 0.93405181 0.94039357]\n",
            "3 day output [[0.94785774]]\n",
            "4 day input [0.95387539 0.94432431 0.9491935  0.95911908 0.96436276 0.96005544\n",
            " 0.96417552 0.95968087 0.94582255 0.94975531 0.93271325 0.93795694\n",
            " 0.94170245 0.94114066 0.93889337 0.94357526 0.94282614 0.93889337\n",
            " 0.94675891 0.94301338 0.94582255 0.93795694 0.94057885 0.94469886\n",
            " 0.94114066 0.92372403 0.91866759 0.91660754 0.90256188 0.90162553\n",
            " 0.89226175 0.90312377 0.91492206 0.91211297 0.90406013 0.88402165\n",
            " 0.89244899 0.8967564  0.91005294 0.9109893  0.90106372 0.91848035\n",
            " 0.92559676 0.95012986 0.97372653 0.97185381 0.96792105 0.97297748\n",
            " 0.96979376 0.96717193 0.95911908 0.95705904 0.95387539 0.95743361\n",
            " 0.96511188 0.96080456 0.96398828 0.96080456 0.96398828 0.97859575\n",
            " 0.98571223 0.98215394 0.97840842 0.98028123 0.98046846 0.96267728\n",
            " 0.95968087 0.95275172 0.9634264  0.95144079 0.95331351 0.96174092\n",
            " 0.94357526 0.93421149 0.93364961 0.93140232 0.93402418 0.93084051\n",
            " 0.91829302 0.92971684 0.93158956 0.9265332  0.93982973 0.92559676\n",
            " 0.91192566 0.90555829 0.90181276 0.89806731 0.89769276 0.90406013\n",
            " 0.89788    0.90181276 0.90200008 0.9057456  0.92353671 0.8888908\n",
            " 0.92957312 0.93405181 0.94039357 0.94785774]\n",
            "4 day output [[0.9559447]]\n",
            "5 day input [0.94432431 0.9491935  0.95911908 0.96436276 0.96005544 0.96417552\n",
            " 0.95968087 0.94582255 0.94975531 0.93271325 0.93795694 0.94170245\n",
            " 0.94114066 0.93889337 0.94357526 0.94282614 0.93889337 0.94675891\n",
            " 0.94301338 0.94582255 0.93795694 0.94057885 0.94469886 0.94114066\n",
            " 0.92372403 0.91866759 0.91660754 0.90256188 0.90162553 0.89226175\n",
            " 0.90312377 0.91492206 0.91211297 0.90406013 0.88402165 0.89244899\n",
            " 0.8967564  0.91005294 0.9109893  0.90106372 0.91848035 0.92559676\n",
            " 0.95012986 0.97372653 0.97185381 0.96792105 0.97297748 0.96979376\n",
            " 0.96717193 0.95911908 0.95705904 0.95387539 0.95743361 0.96511188\n",
            " 0.96080456 0.96398828 0.96080456 0.96398828 0.97859575 0.98571223\n",
            " 0.98215394 0.97840842 0.98028123 0.98046846 0.96267728 0.95968087\n",
            " 0.95275172 0.9634264  0.95144079 0.95331351 0.96174092 0.94357526\n",
            " 0.93421149 0.93364961 0.93140232 0.93402418 0.93084051 0.91829302\n",
            " 0.92971684 0.93158956 0.9265332  0.93982973 0.92559676 0.91192566\n",
            " 0.90555829 0.90181276 0.89806731 0.89769276 0.90406013 0.89788\n",
            " 0.90181276 0.90200008 0.9057456  0.92353671 0.8888908  0.92957312\n",
            " 0.93405181 0.94039357 0.94785774 0.95594472]\n",
            "5 day output [[0.9643198]]\n",
            "6 day input [0.9491935  0.95911908 0.96436276 0.96005544 0.96417552 0.95968087\n",
            " 0.94582255 0.94975531 0.93271325 0.93795694 0.94170245 0.94114066\n",
            " 0.93889337 0.94357526 0.94282614 0.93889337 0.94675891 0.94301338\n",
            " 0.94582255 0.93795694 0.94057885 0.94469886 0.94114066 0.92372403\n",
            " 0.91866759 0.91660754 0.90256188 0.90162553 0.89226175 0.90312377\n",
            " 0.91492206 0.91211297 0.90406013 0.88402165 0.89244899 0.8967564\n",
            " 0.91005294 0.9109893  0.90106372 0.91848035 0.92559676 0.95012986\n",
            " 0.97372653 0.97185381 0.96792105 0.97297748 0.96979376 0.96717193\n",
            " 0.95911908 0.95705904 0.95387539 0.95743361 0.96511188 0.96080456\n",
            " 0.96398828 0.96080456 0.96398828 0.97859575 0.98571223 0.98215394\n",
            " 0.97840842 0.98028123 0.98046846 0.96267728 0.95968087 0.95275172\n",
            " 0.9634264  0.95144079 0.95331351 0.96174092 0.94357526 0.93421149\n",
            " 0.93364961 0.93140232 0.93402418 0.93084051 0.91829302 0.92971684\n",
            " 0.93158956 0.9265332  0.93982973 0.92559676 0.91192566 0.90555829\n",
            " 0.90181276 0.89806731 0.89769276 0.90406013 0.89788    0.90181276\n",
            " 0.90200008 0.9057456  0.92353671 0.8888908  0.92957312 0.93405181\n",
            " 0.94039357 0.94785774 0.95594472 0.96431983]\n",
            "6 day output [[0.97276]]\n",
            "7 day input [0.95911908 0.96436276 0.96005544 0.96417552 0.95968087 0.94582255\n",
            " 0.94975531 0.93271325 0.93795694 0.94170245 0.94114066 0.93889337\n",
            " 0.94357526 0.94282614 0.93889337 0.94675891 0.94301338 0.94582255\n",
            " 0.93795694 0.94057885 0.94469886 0.94114066 0.92372403 0.91866759\n",
            " 0.91660754 0.90256188 0.90162553 0.89226175 0.90312377 0.91492206\n",
            " 0.91211297 0.90406013 0.88402165 0.89244899 0.8967564  0.91005294\n",
            " 0.9109893  0.90106372 0.91848035 0.92559676 0.95012986 0.97372653\n",
            " 0.97185381 0.96792105 0.97297748 0.96979376 0.96717193 0.95911908\n",
            " 0.95705904 0.95387539 0.95743361 0.96511188 0.96080456 0.96398828\n",
            " 0.96080456 0.96398828 0.97859575 0.98571223 0.98215394 0.97840842\n",
            " 0.98028123 0.98046846 0.96267728 0.95968087 0.95275172 0.9634264\n",
            " 0.95144079 0.95331351 0.96174092 0.94357526 0.93421149 0.93364961\n",
            " 0.93140232 0.93402418 0.93084051 0.91829302 0.92971684 0.93158956\n",
            " 0.9265332  0.93982973 0.92559676 0.91192566 0.90555829 0.90181276\n",
            " 0.89806731 0.89769276 0.90406013 0.89788    0.90181276 0.90200008\n",
            " 0.9057456  0.92353671 0.8888908  0.92957312 0.93405181 0.94039357\n",
            " 0.94785774 0.95594472 0.96431983 0.97276002]\n",
            "7 day output [[0.9811196]]\n",
            "8 day input [0.96436276 0.96005544 0.96417552 0.95968087 0.94582255 0.94975531\n",
            " 0.93271325 0.93795694 0.94170245 0.94114066 0.93889337 0.94357526\n",
            " 0.94282614 0.93889337 0.94675891 0.94301338 0.94582255 0.93795694\n",
            " 0.94057885 0.94469886 0.94114066 0.92372403 0.91866759 0.91660754\n",
            " 0.90256188 0.90162553 0.89226175 0.90312377 0.91492206 0.91211297\n",
            " 0.90406013 0.88402165 0.89244899 0.8967564  0.91005294 0.9109893\n",
            " 0.90106372 0.91848035 0.92559676 0.95012986 0.97372653 0.97185381\n",
            " 0.96792105 0.97297748 0.96979376 0.96717193 0.95911908 0.95705904\n",
            " 0.95387539 0.95743361 0.96511188 0.96080456 0.96398828 0.96080456\n",
            " 0.96398828 0.97859575 0.98571223 0.98215394 0.97840842 0.98028123\n",
            " 0.98046846 0.96267728 0.95968087 0.95275172 0.9634264  0.95144079\n",
            " 0.95331351 0.96174092 0.94357526 0.93421149 0.93364961 0.93140232\n",
            " 0.93402418 0.93084051 0.91829302 0.92971684 0.93158956 0.9265332\n",
            " 0.93982973 0.92559676 0.91192566 0.90555829 0.90181276 0.89806731\n",
            " 0.89769276 0.90406013 0.89788    0.90181276 0.90200008 0.9057456\n",
            " 0.92353671 0.8888908  0.92957312 0.93405181 0.94039357 0.94785774\n",
            " 0.95594472 0.96431983 0.97276002 0.98111957]\n",
            "8 day output [[0.9893058]]\n",
            "9 day input [0.96005544 0.96417552 0.95968087 0.94582255 0.94975531 0.93271325\n",
            " 0.93795694 0.94170245 0.94114066 0.93889337 0.94357526 0.94282614\n",
            " 0.93889337 0.94675891 0.94301338 0.94582255 0.93795694 0.94057885\n",
            " 0.94469886 0.94114066 0.92372403 0.91866759 0.91660754 0.90256188\n",
            " 0.90162553 0.89226175 0.90312377 0.91492206 0.91211297 0.90406013\n",
            " 0.88402165 0.89244899 0.8967564  0.91005294 0.9109893  0.90106372\n",
            " 0.91848035 0.92559676 0.95012986 0.97372653 0.97185381 0.96792105\n",
            " 0.97297748 0.96979376 0.96717193 0.95911908 0.95705904 0.95387539\n",
            " 0.95743361 0.96511188 0.96080456 0.96398828 0.96080456 0.96398828\n",
            " 0.97859575 0.98571223 0.98215394 0.97840842 0.98028123 0.98046846\n",
            " 0.96267728 0.95968087 0.95275172 0.9634264  0.95144079 0.95331351\n",
            " 0.96174092 0.94357526 0.93421149 0.93364961 0.93140232 0.93402418\n",
            " 0.93084051 0.91829302 0.92971684 0.93158956 0.9265332  0.93982973\n",
            " 0.92559676 0.91192566 0.90555829 0.90181276 0.89806731 0.89769276\n",
            " 0.90406013 0.89788    0.90181276 0.90200008 0.9057456  0.92353671\n",
            " 0.8888908  0.92957312 0.93405181 0.94039357 0.94785774 0.95594472\n",
            " 0.96431983 0.97276002 0.98111957 0.98930579]\n",
            "9 day output [[0.99726397]]\n",
            "10 day input [0.96417552 0.95968087 0.94582255 0.94975531 0.93271325 0.93795694\n",
            " 0.94170245 0.94114066 0.93889337 0.94357526 0.94282614 0.93889337\n",
            " 0.94675891 0.94301338 0.94582255 0.93795694 0.94057885 0.94469886\n",
            " 0.94114066 0.92372403 0.91866759 0.91660754 0.90256188 0.90162553\n",
            " 0.89226175 0.90312377 0.91492206 0.91211297 0.90406013 0.88402165\n",
            " 0.89244899 0.8967564  0.91005294 0.9109893  0.90106372 0.91848035\n",
            " 0.92559676 0.95012986 0.97372653 0.97185381 0.96792105 0.97297748\n",
            " 0.96979376 0.96717193 0.95911908 0.95705904 0.95387539 0.95743361\n",
            " 0.96511188 0.96080456 0.96398828 0.96080456 0.96398828 0.97859575\n",
            " 0.98571223 0.98215394 0.97840842 0.98028123 0.98046846 0.96267728\n",
            " 0.95968087 0.95275172 0.9634264  0.95144079 0.95331351 0.96174092\n",
            " 0.94357526 0.93421149 0.93364961 0.93140232 0.93402418 0.93084051\n",
            " 0.91829302 0.92971684 0.93158956 0.9265332  0.93982973 0.92559676\n",
            " 0.91192566 0.90555829 0.90181276 0.89806731 0.89769276 0.90406013\n",
            " 0.89788    0.90181276 0.90200008 0.9057456  0.92353671 0.8888908\n",
            " 0.92957312 0.93405181 0.94039357 0.94785774 0.95594472 0.96431983\n",
            " 0.97276002 0.98111957 0.98930579 0.99726397]\n",
            "10 day output [[1.0049664]]\n",
            "11 day input [0.95968087 0.94582255 0.94975531 0.93271325 0.93795694 0.94170245\n",
            " 0.94114066 0.93889337 0.94357526 0.94282614 0.93889337 0.94675891\n",
            " 0.94301338 0.94582255 0.93795694 0.94057885 0.94469886 0.94114066\n",
            " 0.92372403 0.91866759 0.91660754 0.90256188 0.90162553 0.89226175\n",
            " 0.90312377 0.91492206 0.91211297 0.90406013 0.88402165 0.89244899\n",
            " 0.8967564  0.91005294 0.9109893  0.90106372 0.91848035 0.92559676\n",
            " 0.95012986 0.97372653 0.97185381 0.96792105 0.97297748 0.96979376\n",
            " 0.96717193 0.95911908 0.95705904 0.95387539 0.95743361 0.96511188\n",
            " 0.96080456 0.96398828 0.96080456 0.96398828 0.97859575 0.98571223\n",
            " 0.98215394 0.97840842 0.98028123 0.98046846 0.96267728 0.95968087\n",
            " 0.95275172 0.9634264  0.95144079 0.95331351 0.96174092 0.94357526\n",
            " 0.93421149 0.93364961 0.93140232 0.93402418 0.93084051 0.91829302\n",
            " 0.92971684 0.93158956 0.9265332  0.93982973 0.92559676 0.91192566\n",
            " 0.90555829 0.90181276 0.89806731 0.89769276 0.90406013 0.89788\n",
            " 0.90181276 0.90200008 0.9057456  0.92353671 0.8888908  0.92957312\n",
            " 0.93405181 0.94039357 0.94785774 0.95594472 0.96431983 0.97276002\n",
            " 0.98111957 0.98930579 0.99726397 1.00496638]\n",
            "11 day output [[1.0124047]]\n",
            "12 day input [0.94582255 0.94975531 0.93271325 0.93795694 0.94170245 0.94114066\n",
            " 0.93889337 0.94357526 0.94282614 0.93889337 0.94675891 0.94301338\n",
            " 0.94582255 0.93795694 0.94057885 0.94469886 0.94114066 0.92372403\n",
            " 0.91866759 0.91660754 0.90256188 0.90162553 0.89226175 0.90312377\n",
            " 0.91492206 0.91211297 0.90406013 0.88402165 0.89244899 0.8967564\n",
            " 0.91005294 0.9109893  0.90106372 0.91848035 0.92559676 0.95012986\n",
            " 0.97372653 0.97185381 0.96792105 0.97297748 0.96979376 0.96717193\n",
            " 0.95911908 0.95705904 0.95387539 0.95743361 0.96511188 0.96080456\n",
            " 0.96398828 0.96080456 0.96398828 0.97859575 0.98571223 0.98215394\n",
            " 0.97840842 0.98028123 0.98046846 0.96267728 0.95968087 0.95275172\n",
            " 0.9634264  0.95144079 0.95331351 0.96174092 0.94357526 0.93421149\n",
            " 0.93364961 0.93140232 0.93402418 0.93084051 0.91829302 0.92971684\n",
            " 0.93158956 0.9265332  0.93982973 0.92559676 0.91192566 0.90555829\n",
            " 0.90181276 0.89806731 0.89769276 0.90406013 0.89788    0.90181276\n",
            " 0.90200008 0.9057456  0.92353671 0.8888908  0.92957312 0.93405181\n",
            " 0.94039357 0.94785774 0.95594472 0.96431983 0.97276002 0.98111957\n",
            " 0.98930579 0.99726397 1.00496638 1.01240468]\n",
            "12 day output [[1.0195843]]\n",
            "13 day input [0.94975531 0.93271325 0.93795694 0.94170245 0.94114066 0.93889337\n",
            " 0.94357526 0.94282614 0.93889337 0.94675891 0.94301338 0.94582255\n",
            " 0.93795694 0.94057885 0.94469886 0.94114066 0.92372403 0.91866759\n",
            " 0.91660754 0.90256188 0.90162553 0.89226175 0.90312377 0.91492206\n",
            " 0.91211297 0.90406013 0.88402165 0.89244899 0.8967564  0.91005294\n",
            " 0.9109893  0.90106372 0.91848035 0.92559676 0.95012986 0.97372653\n",
            " 0.97185381 0.96792105 0.97297748 0.96979376 0.96717193 0.95911908\n",
            " 0.95705904 0.95387539 0.95743361 0.96511188 0.96080456 0.96398828\n",
            " 0.96080456 0.96398828 0.97859575 0.98571223 0.98215394 0.97840842\n",
            " 0.98028123 0.98046846 0.96267728 0.95968087 0.95275172 0.9634264\n",
            " 0.95144079 0.95331351 0.96174092 0.94357526 0.93421149 0.93364961\n",
            " 0.93140232 0.93402418 0.93084051 0.91829302 0.92971684 0.93158956\n",
            " 0.9265332  0.93982973 0.92559676 0.91192566 0.90555829 0.90181276\n",
            " 0.89806731 0.89769276 0.90406013 0.89788    0.90181276 0.90200008\n",
            " 0.9057456  0.92353671 0.8888908  0.92957312 0.93405181 0.94039357\n",
            " 0.94785774 0.95594472 0.96431983 0.97276002 0.98111957 0.98930579\n",
            " 0.99726397 1.00496638 1.01240468 1.0195843 ]\n",
            "13 day output [[1.0265205]]\n",
            "14 day input [0.93271325 0.93795694 0.94170245 0.94114066 0.93889337 0.94357526\n",
            " 0.94282614 0.93889337 0.94675891 0.94301338 0.94582255 0.93795694\n",
            " 0.94057885 0.94469886 0.94114066 0.92372403 0.91866759 0.91660754\n",
            " 0.90256188 0.90162553 0.89226175 0.90312377 0.91492206 0.91211297\n",
            " 0.90406013 0.88402165 0.89244899 0.8967564  0.91005294 0.9109893\n",
            " 0.90106372 0.91848035 0.92559676 0.95012986 0.97372653 0.97185381\n",
            " 0.96792105 0.97297748 0.96979376 0.96717193 0.95911908 0.95705904\n",
            " 0.95387539 0.95743361 0.96511188 0.96080456 0.96398828 0.96080456\n",
            " 0.96398828 0.97859575 0.98571223 0.98215394 0.97840842 0.98028123\n",
            " 0.98046846 0.96267728 0.95968087 0.95275172 0.9634264  0.95144079\n",
            " 0.95331351 0.96174092 0.94357526 0.93421149 0.93364961 0.93140232\n",
            " 0.93402418 0.93084051 0.91829302 0.92971684 0.93158956 0.9265332\n",
            " 0.93982973 0.92559676 0.91192566 0.90555829 0.90181276 0.89806731\n",
            " 0.89769276 0.90406013 0.89788    0.90181276 0.90200008 0.9057456\n",
            " 0.92353671 0.8888908  0.92957312 0.93405181 0.94039357 0.94785774\n",
            " 0.95594472 0.96431983 0.97276002 0.98111957 0.98930579 0.99726397\n",
            " 1.00496638 1.01240468 1.0195843  1.02652049]\n",
            "14 day output [[1.0332351]]\n",
            "15 day input [0.93795694 0.94170245 0.94114066 0.93889337 0.94357526 0.94282614\n",
            " 0.93889337 0.94675891 0.94301338 0.94582255 0.93795694 0.94057885\n",
            " 0.94469886 0.94114066 0.92372403 0.91866759 0.91660754 0.90256188\n",
            " 0.90162553 0.89226175 0.90312377 0.91492206 0.91211297 0.90406013\n",
            " 0.88402165 0.89244899 0.8967564  0.91005294 0.9109893  0.90106372\n",
            " 0.91848035 0.92559676 0.95012986 0.97372653 0.97185381 0.96792105\n",
            " 0.97297748 0.96979376 0.96717193 0.95911908 0.95705904 0.95387539\n",
            " 0.95743361 0.96511188 0.96080456 0.96398828 0.96080456 0.96398828\n",
            " 0.97859575 0.98571223 0.98215394 0.97840842 0.98028123 0.98046846\n",
            " 0.96267728 0.95968087 0.95275172 0.9634264  0.95144079 0.95331351\n",
            " 0.96174092 0.94357526 0.93421149 0.93364961 0.93140232 0.93402418\n",
            " 0.93084051 0.91829302 0.92971684 0.93158956 0.9265332  0.93982973\n",
            " 0.92559676 0.91192566 0.90555829 0.90181276 0.89806731 0.89769276\n",
            " 0.90406013 0.89788    0.90181276 0.90200008 0.9057456  0.92353671\n",
            " 0.8888908  0.92957312 0.93405181 0.94039357 0.94785774 0.95594472\n",
            " 0.96431983 0.97276002 0.98111957 0.98930579 0.99726397 1.00496638\n",
            " 1.01240468 1.0195843  1.02652049 1.03323507]\n",
            "15 day output [[1.0397521]]\n",
            "16 day input [0.94170245 0.94114066 0.93889337 0.94357526 0.94282614 0.93889337\n",
            " 0.94675891 0.94301338 0.94582255 0.93795694 0.94057885 0.94469886\n",
            " 0.94114066 0.92372403 0.91866759 0.91660754 0.90256188 0.90162553\n",
            " 0.89226175 0.90312377 0.91492206 0.91211297 0.90406013 0.88402165\n",
            " 0.89244899 0.8967564  0.91005294 0.9109893  0.90106372 0.91848035\n",
            " 0.92559676 0.95012986 0.97372653 0.97185381 0.96792105 0.97297748\n",
            " 0.96979376 0.96717193 0.95911908 0.95705904 0.95387539 0.95743361\n",
            " 0.96511188 0.96080456 0.96398828 0.96080456 0.96398828 0.97859575\n",
            " 0.98571223 0.98215394 0.97840842 0.98028123 0.98046846 0.96267728\n",
            " 0.95968087 0.95275172 0.9634264  0.95144079 0.95331351 0.96174092\n",
            " 0.94357526 0.93421149 0.93364961 0.93140232 0.93402418 0.93084051\n",
            " 0.91829302 0.92971684 0.93158956 0.9265332  0.93982973 0.92559676\n",
            " 0.91192566 0.90555829 0.90181276 0.89806731 0.89769276 0.90406013\n",
            " 0.89788    0.90181276 0.90200008 0.9057456  0.92353671 0.8888908\n",
            " 0.92957312 0.93405181 0.94039357 0.94785774 0.95594472 0.96431983\n",
            " 0.97276002 0.98111957 0.98930579 0.99726397 1.00496638 1.01240468\n",
            " 1.0195843  1.02652049 1.03323507 1.03975213]\n",
            "16 day output [[1.0460991]]\n",
            "17 day input [0.94114066 0.93889337 0.94357526 0.94282614 0.93889337 0.94675891\n",
            " 0.94301338 0.94582255 0.93795694 0.94057885 0.94469886 0.94114066\n",
            " 0.92372403 0.91866759 0.91660754 0.90256188 0.90162553 0.89226175\n",
            " 0.90312377 0.91492206 0.91211297 0.90406013 0.88402165 0.89244899\n",
            " 0.8967564  0.91005294 0.9109893  0.90106372 0.91848035 0.92559676\n",
            " 0.95012986 0.97372653 0.97185381 0.96792105 0.97297748 0.96979376\n",
            " 0.96717193 0.95911908 0.95705904 0.95387539 0.95743361 0.96511188\n",
            " 0.96080456 0.96398828 0.96080456 0.96398828 0.97859575 0.98571223\n",
            " 0.98215394 0.97840842 0.98028123 0.98046846 0.96267728 0.95968087\n",
            " 0.95275172 0.9634264  0.95144079 0.95331351 0.96174092 0.94357526\n",
            " 0.93421149 0.93364961 0.93140232 0.93402418 0.93084051 0.91829302\n",
            " 0.92971684 0.93158956 0.9265332  0.93982973 0.92559676 0.91192566\n",
            " 0.90555829 0.90181276 0.89806731 0.89769276 0.90406013 0.89788\n",
            " 0.90181276 0.90200008 0.9057456  0.92353671 0.8888908  0.92957312\n",
            " 0.93405181 0.94039357 0.94785774 0.95594472 0.96431983 0.97276002\n",
            " 0.98111957 0.98930579 0.99726397 1.00496638 1.01240468 1.0195843\n",
            " 1.02652049 1.03323507 1.03975213 1.04609907]\n",
            "17 day output [[1.0523022]]\n",
            "18 day input [0.93889337 0.94357526 0.94282614 0.93889337 0.94675891 0.94301338\n",
            " 0.94582255 0.93795694 0.94057885 0.94469886 0.94114066 0.92372403\n",
            " 0.91866759 0.91660754 0.90256188 0.90162553 0.89226175 0.90312377\n",
            " 0.91492206 0.91211297 0.90406013 0.88402165 0.89244899 0.8967564\n",
            " 0.91005294 0.9109893  0.90106372 0.91848035 0.92559676 0.95012986\n",
            " 0.97372653 0.97185381 0.96792105 0.97297748 0.96979376 0.96717193\n",
            " 0.95911908 0.95705904 0.95387539 0.95743361 0.96511188 0.96080456\n",
            " 0.96398828 0.96080456 0.96398828 0.97859575 0.98571223 0.98215394\n",
            " 0.97840842 0.98028123 0.98046846 0.96267728 0.95968087 0.95275172\n",
            " 0.9634264  0.95144079 0.95331351 0.96174092 0.94357526 0.93421149\n",
            " 0.93364961 0.93140232 0.93402418 0.93084051 0.91829302 0.92971684\n",
            " 0.93158956 0.9265332  0.93982973 0.92559676 0.91192566 0.90555829\n",
            " 0.90181276 0.89806731 0.89769276 0.90406013 0.89788    0.90181276\n",
            " 0.90200008 0.9057456  0.92353671 0.8888908  0.92957312 0.93405181\n",
            " 0.94039357 0.94785774 0.95594472 0.96431983 0.97276002 0.98111957\n",
            " 0.98930579 0.99726397 1.00496638 1.01240468 1.0195843  1.02652049\n",
            " 1.03323507 1.03975213 1.04609907 1.05230224]\n",
            "18 day output [[1.0583869]]\n",
            "19 day input [0.94357526 0.94282614 0.93889337 0.94675891 0.94301338 0.94582255\n",
            " 0.93795694 0.94057885 0.94469886 0.94114066 0.92372403 0.91866759\n",
            " 0.91660754 0.90256188 0.90162553 0.89226175 0.90312377 0.91492206\n",
            " 0.91211297 0.90406013 0.88402165 0.89244899 0.8967564  0.91005294\n",
            " 0.9109893  0.90106372 0.91848035 0.92559676 0.95012986 0.97372653\n",
            " 0.97185381 0.96792105 0.97297748 0.96979376 0.96717193 0.95911908\n",
            " 0.95705904 0.95387539 0.95743361 0.96511188 0.96080456 0.96398828\n",
            " 0.96080456 0.96398828 0.97859575 0.98571223 0.98215394 0.97840842\n",
            " 0.98028123 0.98046846 0.96267728 0.95968087 0.95275172 0.9634264\n",
            " 0.95144079 0.95331351 0.96174092 0.94357526 0.93421149 0.93364961\n",
            " 0.93140232 0.93402418 0.93084051 0.91829302 0.92971684 0.93158956\n",
            " 0.9265332  0.93982973 0.92559676 0.91192566 0.90555829 0.90181276\n",
            " 0.89806731 0.89769276 0.90406013 0.89788    0.90181276 0.90200008\n",
            " 0.9057456  0.92353671 0.8888908  0.92957312 0.93405181 0.94039357\n",
            " 0.94785774 0.95594472 0.96431983 0.97276002 0.98111957 0.98930579\n",
            " 0.99726397 1.00496638 1.01240468 1.0195843  1.02652049 1.03323507\n",
            " 1.03975213 1.04609907 1.05230224 1.05838692]\n",
            "19 day output [[1.0643767]]\n",
            "20 day input [0.94282614 0.93889337 0.94675891 0.94301338 0.94582255 0.93795694\n",
            " 0.94057885 0.94469886 0.94114066 0.92372403 0.91866759 0.91660754\n",
            " 0.90256188 0.90162553 0.89226175 0.90312377 0.91492206 0.91211297\n",
            " 0.90406013 0.88402165 0.89244899 0.8967564  0.91005294 0.9109893\n",
            " 0.90106372 0.91848035 0.92559676 0.95012986 0.97372653 0.97185381\n",
            " 0.96792105 0.97297748 0.96979376 0.96717193 0.95911908 0.95705904\n",
            " 0.95387539 0.95743361 0.96511188 0.96080456 0.96398828 0.96080456\n",
            " 0.96398828 0.97859575 0.98571223 0.98215394 0.97840842 0.98028123\n",
            " 0.98046846 0.96267728 0.95968087 0.95275172 0.9634264  0.95144079\n",
            " 0.95331351 0.96174092 0.94357526 0.93421149 0.93364961 0.93140232\n",
            " 0.93402418 0.93084051 0.91829302 0.92971684 0.93158956 0.9265332\n",
            " 0.93982973 0.92559676 0.91192566 0.90555829 0.90181276 0.89806731\n",
            " 0.89769276 0.90406013 0.89788    0.90181276 0.90200008 0.9057456\n",
            " 0.92353671 0.8888908  0.92957312 0.93405181 0.94039357 0.94785774\n",
            " 0.95594472 0.96431983 0.97276002 0.98111957 0.98930579 0.99726397\n",
            " 1.00496638 1.01240468 1.0195843  1.02652049 1.03323507 1.03975213\n",
            " 1.04609907 1.05230224 1.05838692 1.06437671]\n",
            "20 day output [[1.0702919]]\n",
            "21 day input [0.93889337 0.94675891 0.94301338 0.94582255 0.93795694 0.94057885\n",
            " 0.94469886 0.94114066 0.92372403 0.91866759 0.91660754 0.90256188\n",
            " 0.90162553 0.89226175 0.90312377 0.91492206 0.91211297 0.90406013\n",
            " 0.88402165 0.89244899 0.8967564  0.91005294 0.9109893  0.90106372\n",
            " 0.91848035 0.92559676 0.95012986 0.97372653 0.97185381 0.96792105\n",
            " 0.97297748 0.96979376 0.96717193 0.95911908 0.95705904 0.95387539\n",
            " 0.95743361 0.96511188 0.96080456 0.96398828 0.96080456 0.96398828\n",
            " 0.97859575 0.98571223 0.98215394 0.97840842 0.98028123 0.98046846\n",
            " 0.96267728 0.95968087 0.95275172 0.9634264  0.95144079 0.95331351\n",
            " 0.96174092 0.94357526 0.93421149 0.93364961 0.93140232 0.93402418\n",
            " 0.93084051 0.91829302 0.92971684 0.93158956 0.9265332  0.93982973\n",
            " 0.92559676 0.91192566 0.90555829 0.90181276 0.89806731 0.89769276\n",
            " 0.90406013 0.89788    0.90181276 0.90200008 0.9057456  0.92353671\n",
            " 0.8888908  0.92957312 0.93405181 0.94039357 0.94785774 0.95594472\n",
            " 0.96431983 0.97276002 0.98111957 0.98930579 0.99726397 1.00496638\n",
            " 1.01240468 1.0195843  1.02652049 1.03323507 1.03975213 1.04609907\n",
            " 1.05230224 1.05838692 1.06437671 1.07029188]\n",
            "21 day output [[1.0761504]]\n",
            "22 day input [0.94675891 0.94301338 0.94582255 0.93795694 0.94057885 0.94469886\n",
            " 0.94114066 0.92372403 0.91866759 0.91660754 0.90256188 0.90162553\n",
            " 0.89226175 0.90312377 0.91492206 0.91211297 0.90406013 0.88402165\n",
            " 0.89244899 0.8967564  0.91005294 0.9109893  0.90106372 0.91848035\n",
            " 0.92559676 0.95012986 0.97372653 0.97185381 0.96792105 0.97297748\n",
            " 0.96979376 0.96717193 0.95911908 0.95705904 0.95387539 0.95743361\n",
            " 0.96511188 0.96080456 0.96398828 0.96080456 0.96398828 0.97859575\n",
            " 0.98571223 0.98215394 0.97840842 0.98028123 0.98046846 0.96267728\n",
            " 0.95968087 0.95275172 0.9634264  0.95144079 0.95331351 0.96174092\n",
            " 0.94357526 0.93421149 0.93364961 0.93140232 0.93402418 0.93084051\n",
            " 0.91829302 0.92971684 0.93158956 0.9265332  0.93982973 0.92559676\n",
            " 0.91192566 0.90555829 0.90181276 0.89806731 0.89769276 0.90406013\n",
            " 0.89788    0.90181276 0.90200008 0.9057456  0.92353671 0.8888908\n",
            " 0.92957312 0.93405181 0.94039357 0.94785774 0.95594472 0.96431983\n",
            " 0.97276002 0.98111957 0.98930579 0.99726397 1.00496638 1.01240468\n",
            " 1.0195843  1.02652049 1.03323507 1.03975213 1.04609907 1.05230224\n",
            " 1.05838692 1.06437671 1.07029188 1.07615042]\n",
            "22 day output [[1.0819659]]\n",
            "23 day input [0.94301338 0.94582255 0.93795694 0.94057885 0.94469886 0.94114066\n",
            " 0.92372403 0.91866759 0.91660754 0.90256188 0.90162553 0.89226175\n",
            " 0.90312377 0.91492206 0.91211297 0.90406013 0.88402165 0.89244899\n",
            " 0.8967564  0.91005294 0.9109893  0.90106372 0.91848035 0.92559676\n",
            " 0.95012986 0.97372653 0.97185381 0.96792105 0.97297748 0.96979376\n",
            " 0.96717193 0.95911908 0.95705904 0.95387539 0.95743361 0.96511188\n",
            " 0.96080456 0.96398828 0.96080456 0.96398828 0.97859575 0.98571223\n",
            " 0.98215394 0.97840842 0.98028123 0.98046846 0.96267728 0.95968087\n",
            " 0.95275172 0.9634264  0.95144079 0.95331351 0.96174092 0.94357526\n",
            " 0.93421149 0.93364961 0.93140232 0.93402418 0.93084051 0.91829302\n",
            " 0.92971684 0.93158956 0.9265332  0.93982973 0.92559676 0.91192566\n",
            " 0.90555829 0.90181276 0.89806731 0.89769276 0.90406013 0.89788\n",
            " 0.90181276 0.90200008 0.9057456  0.92353671 0.8888908  0.92957312\n",
            " 0.93405181 0.94039357 0.94785774 0.95594472 0.96431983 0.97276002\n",
            " 0.98111957 0.98930579 0.99726397 1.00496638 1.01240468 1.0195843\n",
            " 1.02652049 1.03323507 1.03975213 1.04609907 1.05230224 1.05838692\n",
            " 1.06437671 1.07029188 1.07615042 1.08196592]\n",
            "23 day output [[1.0877497]]\n",
            "24 day input [0.94582255 0.93795694 0.94057885 0.94469886 0.94114066 0.92372403\n",
            " 0.91866759 0.91660754 0.90256188 0.90162553 0.89226175 0.90312377\n",
            " 0.91492206 0.91211297 0.90406013 0.88402165 0.89244899 0.8967564\n",
            " 0.91005294 0.9109893  0.90106372 0.91848035 0.92559676 0.95012986\n",
            " 0.97372653 0.97185381 0.96792105 0.97297748 0.96979376 0.96717193\n",
            " 0.95911908 0.95705904 0.95387539 0.95743361 0.96511188 0.96080456\n",
            " 0.96398828 0.96080456 0.96398828 0.97859575 0.98571223 0.98215394\n",
            " 0.97840842 0.98028123 0.98046846 0.96267728 0.95968087 0.95275172\n",
            " 0.9634264  0.95144079 0.95331351 0.96174092 0.94357526 0.93421149\n",
            " 0.93364961 0.93140232 0.93402418 0.93084051 0.91829302 0.92971684\n",
            " 0.93158956 0.9265332  0.93982973 0.92559676 0.91192566 0.90555829\n",
            " 0.90181276 0.89806731 0.89769276 0.90406013 0.89788    0.90181276\n",
            " 0.90200008 0.9057456  0.92353671 0.8888908  0.92957312 0.93405181\n",
            " 0.94039357 0.94785774 0.95594472 0.96431983 0.97276002 0.98111957\n",
            " 0.98930579 0.99726397 1.00496638 1.01240468 1.0195843  1.02652049\n",
            " 1.03323507 1.03975213 1.04609907 1.05230224 1.05838692 1.06437671\n",
            " 1.07029188 1.07615042 1.08196592 1.08774972]\n",
            "24 day output [[1.0935094]]\n",
            "25 day input [0.93795694 0.94057885 0.94469886 0.94114066 0.92372403 0.91866759\n",
            " 0.91660754 0.90256188 0.90162553 0.89226175 0.90312377 0.91492206\n",
            " 0.91211297 0.90406013 0.88402165 0.89244899 0.8967564  0.91005294\n",
            " 0.9109893  0.90106372 0.91848035 0.92559676 0.95012986 0.97372653\n",
            " 0.97185381 0.96792105 0.97297748 0.96979376 0.96717193 0.95911908\n",
            " 0.95705904 0.95387539 0.95743361 0.96511188 0.96080456 0.96398828\n",
            " 0.96080456 0.96398828 0.97859575 0.98571223 0.98215394 0.97840842\n",
            " 0.98028123 0.98046846 0.96267728 0.95968087 0.95275172 0.9634264\n",
            " 0.95144079 0.95331351 0.96174092 0.94357526 0.93421149 0.93364961\n",
            " 0.93140232 0.93402418 0.93084051 0.91829302 0.92971684 0.93158956\n",
            " 0.9265332  0.93982973 0.92559676 0.91192566 0.90555829 0.90181276\n",
            " 0.89806731 0.89769276 0.90406013 0.89788    0.90181276 0.90200008\n",
            " 0.9057456  0.92353671 0.8888908  0.92957312 0.93405181 0.94039357\n",
            " 0.94785774 0.95594472 0.96431983 0.97276002 0.98111957 0.98930579\n",
            " 0.99726397 1.00496638 1.01240468 1.0195843  1.02652049 1.03323507\n",
            " 1.03975213 1.04609907 1.05230224 1.05838692 1.06437671 1.07029188\n",
            " 1.07615042 1.08196592 1.08774972 1.09350944]\n",
            "25 day output [[1.0992503]]\n",
            "26 day input [0.94057885 0.94469886 0.94114066 0.92372403 0.91866759 0.91660754\n",
            " 0.90256188 0.90162553 0.89226175 0.90312377 0.91492206 0.91211297\n",
            " 0.90406013 0.88402165 0.89244899 0.8967564  0.91005294 0.9109893\n",
            " 0.90106372 0.91848035 0.92559676 0.95012986 0.97372653 0.97185381\n",
            " 0.96792105 0.97297748 0.96979376 0.96717193 0.95911908 0.95705904\n",
            " 0.95387539 0.95743361 0.96511188 0.96080456 0.96398828 0.96080456\n",
            " 0.96398828 0.97859575 0.98571223 0.98215394 0.97840842 0.98028123\n",
            " 0.98046846 0.96267728 0.95968087 0.95275172 0.9634264  0.95144079\n",
            " 0.95331351 0.96174092 0.94357526 0.93421149 0.93364961 0.93140232\n",
            " 0.93402418 0.93084051 0.91829302 0.92971684 0.93158956 0.9265332\n",
            " 0.93982973 0.92559676 0.91192566 0.90555829 0.90181276 0.89806731\n",
            " 0.89769276 0.90406013 0.89788    0.90181276 0.90200008 0.9057456\n",
            " 0.92353671 0.8888908  0.92957312 0.93405181 0.94039357 0.94785774\n",
            " 0.95594472 0.96431983 0.97276002 0.98111957 0.98930579 0.99726397\n",
            " 1.00496638 1.01240468 1.0195843  1.02652049 1.03323507 1.03975213\n",
            " 1.04609907 1.05230224 1.05838692 1.06437671 1.07029188 1.07615042\n",
            " 1.08196592 1.08774972 1.09350944 1.09925032]\n",
            "26 day output [[1.1049747]]\n",
            "27 day input [0.94469886 0.94114066 0.92372403 0.91866759 0.91660754 0.90256188\n",
            " 0.90162553 0.89226175 0.90312377 0.91492206 0.91211297 0.90406013\n",
            " 0.88402165 0.89244899 0.8967564  0.91005294 0.9109893  0.90106372\n",
            " 0.91848035 0.92559676 0.95012986 0.97372653 0.97185381 0.96792105\n",
            " 0.97297748 0.96979376 0.96717193 0.95911908 0.95705904 0.95387539\n",
            " 0.95743361 0.96511188 0.96080456 0.96398828 0.96080456 0.96398828\n",
            " 0.97859575 0.98571223 0.98215394 0.97840842 0.98028123 0.98046846\n",
            " 0.96267728 0.95968087 0.95275172 0.9634264  0.95144079 0.95331351\n",
            " 0.96174092 0.94357526 0.93421149 0.93364961 0.93140232 0.93402418\n",
            " 0.93084051 0.91829302 0.92971684 0.93158956 0.9265332  0.93982973\n",
            " 0.92559676 0.91192566 0.90555829 0.90181276 0.89806731 0.89769276\n",
            " 0.90406013 0.89788    0.90181276 0.90200008 0.9057456  0.92353671\n",
            " 0.8888908  0.92957312 0.93405181 0.94039357 0.94785774 0.95594472\n",
            " 0.96431983 0.97276002 0.98111957 0.98930579 0.99726397 1.00496638\n",
            " 1.01240468 1.0195843  1.02652049 1.03323507 1.03975213 1.04609907\n",
            " 1.05230224 1.05838692 1.06437671 1.07029188 1.07615042 1.08196592\n",
            " 1.08774972 1.09350944 1.09925032 1.10497475]\n",
            "27 day output [[1.1106831]]\n",
            "28 day input [0.94114066 0.92372403 0.91866759 0.91660754 0.90256188 0.90162553\n",
            " 0.89226175 0.90312377 0.91492206 0.91211297 0.90406013 0.88402165\n",
            " 0.89244899 0.8967564  0.91005294 0.9109893  0.90106372 0.91848035\n",
            " 0.92559676 0.95012986 0.97372653 0.97185381 0.96792105 0.97297748\n",
            " 0.96979376 0.96717193 0.95911908 0.95705904 0.95387539 0.95743361\n",
            " 0.96511188 0.96080456 0.96398828 0.96080456 0.96398828 0.97859575\n",
            " 0.98571223 0.98215394 0.97840842 0.98028123 0.98046846 0.96267728\n",
            " 0.95968087 0.95275172 0.9634264  0.95144079 0.95331351 0.96174092\n",
            " 0.94357526 0.93421149 0.93364961 0.93140232 0.93402418 0.93084051\n",
            " 0.91829302 0.92971684 0.93158956 0.9265332  0.93982973 0.92559676\n",
            " 0.91192566 0.90555829 0.90181276 0.89806731 0.89769276 0.90406013\n",
            " 0.89788    0.90181276 0.90200008 0.9057456  0.92353671 0.8888908\n",
            " 0.92957312 0.93405181 0.94039357 0.94785774 0.95594472 0.96431983\n",
            " 0.97276002 0.98111957 0.98930579 0.99726397 1.00496638 1.01240468\n",
            " 1.0195843  1.02652049 1.03323507 1.03975213 1.04609907 1.05230224\n",
            " 1.05838692 1.06437671 1.07029188 1.07615042 1.08196592 1.08774972\n",
            " 1.09350944 1.09925032 1.10497475 1.11068308]\n",
            "28 day output [[1.1163737]]\n",
            "29 day input [0.92372403 0.91866759 0.91660754 0.90256188 0.90162553 0.89226175\n",
            " 0.90312377 0.91492206 0.91211297 0.90406013 0.88402165 0.89244899\n",
            " 0.8967564  0.91005294 0.9109893  0.90106372 0.91848035 0.92559676\n",
            " 0.95012986 0.97372653 0.97185381 0.96792105 0.97297748 0.96979376\n",
            " 0.96717193 0.95911908 0.95705904 0.95387539 0.95743361 0.96511188\n",
            " 0.96080456 0.96398828 0.96080456 0.96398828 0.97859575 0.98571223\n",
            " 0.98215394 0.97840842 0.98028123 0.98046846 0.96267728 0.95968087\n",
            " 0.95275172 0.9634264  0.95144079 0.95331351 0.96174092 0.94357526\n",
            " 0.93421149 0.93364961 0.93140232 0.93402418 0.93084051 0.91829302\n",
            " 0.92971684 0.93158956 0.9265332  0.93982973 0.92559676 0.91192566\n",
            " 0.90555829 0.90181276 0.89806731 0.89769276 0.90406013 0.89788\n",
            " 0.90181276 0.90200008 0.9057456  0.92353671 0.8888908  0.92957312\n",
            " 0.93405181 0.94039357 0.94785774 0.95594472 0.96431983 0.97276002\n",
            " 0.98111957 0.98930579 0.99726397 1.00496638 1.01240468 1.0195843\n",
            " 1.02652049 1.03323507 1.03975213 1.04609907 1.05230224 1.05838692\n",
            " 1.06437671 1.07029188 1.07615042 1.08196592 1.08774972 1.09350944\n",
            " 1.09925032 1.10497475 1.11068308 1.11637366]\n",
            "29 day output [[1.1220437]]\n",
            "[[0.929573118686676], [0.9340518116950989], [0.9403935670852661], [0.9478577375411987], [0.9559447169303894], [0.9643198251724243], [0.972760021686554], [0.9811195731163025], [0.9893057942390442], [0.9972639679908752], [1.004966378211975], [1.0124046802520752], [1.01958429813385], [1.0265204906463623], [1.0332350730895996], [1.0397521257400513], [1.046099066734314], [1.0523022413253784], [1.0583869218826294], [1.064376711845398], [1.0702918767929077], [1.0761504173278809], [1.0819659233093262], [1.087749719619751], [1.0935094356536865], [1.099250316619873], [1.1049747467041016], [1.1106830835342407], [1.1163736581802368], [1.1220437288284302]]\n"
          ],
          "name": "stdout"
        }
      ]
    },
    {
      "cell_type": "code",
      "metadata": {
        "id": "pkXx4xD3Bh5w"
      },
      "source": [
        "day_new=np.arange(1,101)\n",
        "day_pred=np.arange(101,131)"
      ],
      "execution_count": null,
      "outputs": []
    },
    {
      "cell_type": "code",
      "metadata": {
        "colab": {
          "background_save": true,
          "base_uri": "https://localhost:8080/"
        },
        "id": "2Qf3EARaCBqR",
        "outputId": "c7090396-262b-4fb2-f440-73d728f79895"
      },
      "source": [
        "len(df1)"
      ],
      "execution_count": null,
      "outputs": [
        {
          "output_type": "execute_result",
          "data": {
            "text/plain": [
              "9073"
            ]
          },
          "metadata": {
            "tags": []
          },
          "execution_count": 0
        }
      ]
    },
    {
      "cell_type": "code",
      "metadata": {
        "colab": {
          "base_uri": "https://localhost:8080/",
          "height": 575
        },
        "id": "5RN52cLaCFEt",
        "outputId": "ab2e9c42-920f-4cc2-ef7a-4839320e7d7e"
      },
      "source": [
        "plt.plot(day_new,scaler.inverse_transform(df1[2661:]))\n",
        "plt.plot(day_pred,scaler.inverse_transform(lst_output))"
      ],
      "execution_count": null,
      "outputs": [
        {
          "output_type": "error",
          "ename": "ValueError",
          "evalue": "ignored",
          "traceback": [
            "\u001b[0;31m---------------------------------------------------------------------------\u001b[0m",
            "\u001b[0;31mValueError\u001b[0m                                Traceback (most recent call last)",
            "\u001b[0;32m<ipython-input-68-801a44022677>\u001b[0m in \u001b[0;36m<module>\u001b[0;34m()\u001b[0m\n\u001b[0;32m----> 1\u001b[0;31m \u001b[0mplt\u001b[0m\u001b[0;34m.\u001b[0m\u001b[0mplot\u001b[0m\u001b[0;34m(\u001b[0m\u001b[0mday_new\u001b[0m\u001b[0;34m,\u001b[0m\u001b[0mscaler\u001b[0m\u001b[0;34m.\u001b[0m\u001b[0minverse_transform\u001b[0m\u001b[0;34m(\u001b[0m\u001b[0mdf1\u001b[0m\u001b[0;34m[\u001b[0m\u001b[0;36m2661\u001b[0m\u001b[0;34m:\u001b[0m\u001b[0;34m]\u001b[0m\u001b[0;34m)\u001b[0m\u001b[0;34m)\u001b[0m\u001b[0;34m\u001b[0m\u001b[0;34m\u001b[0m\u001b[0m\n\u001b[0m\u001b[1;32m      2\u001b[0m \u001b[0mplt\u001b[0m\u001b[0;34m.\u001b[0m\u001b[0mplot\u001b[0m\u001b[0;34m(\u001b[0m\u001b[0mday_pred\u001b[0m\u001b[0;34m,\u001b[0m\u001b[0mscaler\u001b[0m\u001b[0;34m.\u001b[0m\u001b[0minverse_transform\u001b[0m\u001b[0;34m(\u001b[0m\u001b[0mlst_output\u001b[0m\u001b[0;34m)\u001b[0m\u001b[0;34m)\u001b[0m\u001b[0;34m\u001b[0m\u001b[0;34m\u001b[0m\u001b[0m\n",
            "\u001b[0;32m/usr/local/lib/python3.6/dist-packages/matplotlib/pyplot.py\u001b[0m in \u001b[0;36mplot\u001b[0;34m(scalex, scaley, data, *args, **kwargs)\u001b[0m\n\u001b[1;32m   2761\u001b[0m     return gca().plot(\n\u001b[1;32m   2762\u001b[0m         *args, scalex=scalex, scaley=scaley, **({\"data\": data} if data\n\u001b[0;32m-> 2763\u001b[0;31m         is not None else {}), **kwargs)\n\u001b[0m\u001b[1;32m   2764\u001b[0m \u001b[0;34m\u001b[0m\u001b[0m\n\u001b[1;32m   2765\u001b[0m \u001b[0;34m\u001b[0m\u001b[0m\n",
            "\u001b[0;32m/usr/local/lib/python3.6/dist-packages/matplotlib/axes/_axes.py\u001b[0m in \u001b[0;36mplot\u001b[0;34m(self, scalex, scaley, data, *args, **kwargs)\u001b[0m\n\u001b[1;32m   1645\u001b[0m         \"\"\"\n\u001b[1;32m   1646\u001b[0m         \u001b[0mkwargs\u001b[0m \u001b[0;34m=\u001b[0m \u001b[0mcbook\u001b[0m\u001b[0;34m.\u001b[0m\u001b[0mnormalize_kwargs\u001b[0m\u001b[0;34m(\u001b[0m\u001b[0mkwargs\u001b[0m\u001b[0;34m,\u001b[0m \u001b[0mmlines\u001b[0m\u001b[0;34m.\u001b[0m\u001b[0mLine2D\u001b[0m\u001b[0;34m)\u001b[0m\u001b[0;34m\u001b[0m\u001b[0;34m\u001b[0m\u001b[0m\n\u001b[0;32m-> 1647\u001b[0;31m         \u001b[0mlines\u001b[0m \u001b[0;34m=\u001b[0m \u001b[0;34m[\u001b[0m\u001b[0;34m*\u001b[0m\u001b[0mself\u001b[0m\u001b[0;34m.\u001b[0m\u001b[0m_get_lines\u001b[0m\u001b[0;34m(\u001b[0m\u001b[0;34m*\u001b[0m\u001b[0margs\u001b[0m\u001b[0;34m,\u001b[0m \u001b[0mdata\u001b[0m\u001b[0;34m=\u001b[0m\u001b[0mdata\u001b[0m\u001b[0;34m,\u001b[0m \u001b[0;34m**\u001b[0m\u001b[0mkwargs\u001b[0m\u001b[0;34m)\u001b[0m\u001b[0;34m]\u001b[0m\u001b[0;34m\u001b[0m\u001b[0;34m\u001b[0m\u001b[0m\n\u001b[0m\u001b[1;32m   1648\u001b[0m         \u001b[0;32mfor\u001b[0m \u001b[0mline\u001b[0m \u001b[0;32min\u001b[0m \u001b[0mlines\u001b[0m\u001b[0;34m:\u001b[0m\u001b[0;34m\u001b[0m\u001b[0;34m\u001b[0m\u001b[0m\n\u001b[1;32m   1649\u001b[0m             \u001b[0mself\u001b[0m\u001b[0;34m.\u001b[0m\u001b[0madd_line\u001b[0m\u001b[0;34m(\u001b[0m\u001b[0mline\u001b[0m\u001b[0;34m)\u001b[0m\u001b[0;34m\u001b[0m\u001b[0;34m\u001b[0m\u001b[0m\n",
            "\u001b[0;32m/usr/local/lib/python3.6/dist-packages/matplotlib/axes/_base.py\u001b[0m in \u001b[0;36m__call__\u001b[0;34m(self, *args, **kwargs)\u001b[0m\n\u001b[1;32m    214\u001b[0m                 \u001b[0mthis\u001b[0m \u001b[0;34m+=\u001b[0m \u001b[0margs\u001b[0m\u001b[0;34m[\u001b[0m\u001b[0;36m0\u001b[0m\u001b[0;34m]\u001b[0m\u001b[0;34m,\u001b[0m\u001b[0;34m\u001b[0m\u001b[0;34m\u001b[0m\u001b[0m\n\u001b[1;32m    215\u001b[0m                 \u001b[0margs\u001b[0m \u001b[0;34m=\u001b[0m \u001b[0margs\u001b[0m\u001b[0;34m[\u001b[0m\u001b[0;36m1\u001b[0m\u001b[0;34m:\u001b[0m\u001b[0;34m]\u001b[0m\u001b[0;34m\u001b[0m\u001b[0;34m\u001b[0m\u001b[0m\n\u001b[0;32m--> 216\u001b[0;31m             \u001b[0;32myield\u001b[0m \u001b[0;32mfrom\u001b[0m \u001b[0mself\u001b[0m\u001b[0;34m.\u001b[0m\u001b[0m_plot_args\u001b[0m\u001b[0;34m(\u001b[0m\u001b[0mthis\u001b[0m\u001b[0;34m,\u001b[0m \u001b[0mkwargs\u001b[0m\u001b[0;34m)\u001b[0m\u001b[0;34m\u001b[0m\u001b[0;34m\u001b[0m\u001b[0m\n\u001b[0m\u001b[1;32m    217\u001b[0m \u001b[0;34m\u001b[0m\u001b[0m\n\u001b[1;32m    218\u001b[0m     \u001b[0;32mdef\u001b[0m \u001b[0mget_next_color\u001b[0m\u001b[0;34m(\u001b[0m\u001b[0mself\u001b[0m\u001b[0;34m)\u001b[0m\u001b[0;34m:\u001b[0m\u001b[0;34m\u001b[0m\u001b[0;34m\u001b[0m\u001b[0m\n",
            "\u001b[0;32m/usr/local/lib/python3.6/dist-packages/matplotlib/axes/_base.py\u001b[0m in \u001b[0;36m_plot_args\u001b[0;34m(self, tup, kwargs)\u001b[0m\n\u001b[1;32m    340\u001b[0m \u001b[0;34m\u001b[0m\u001b[0m\n\u001b[1;32m    341\u001b[0m         \u001b[0;32mif\u001b[0m \u001b[0mx\u001b[0m\u001b[0;34m.\u001b[0m\u001b[0mshape\u001b[0m\u001b[0;34m[\u001b[0m\u001b[0;36m0\u001b[0m\u001b[0;34m]\u001b[0m \u001b[0;34m!=\u001b[0m \u001b[0my\u001b[0m\u001b[0;34m.\u001b[0m\u001b[0mshape\u001b[0m\u001b[0;34m[\u001b[0m\u001b[0;36m0\u001b[0m\u001b[0;34m]\u001b[0m\u001b[0;34m:\u001b[0m\u001b[0;34m\u001b[0m\u001b[0;34m\u001b[0m\u001b[0m\n\u001b[0;32m--> 342\u001b[0;31m             raise ValueError(f\"x and y must have same first dimension, but \"\n\u001b[0m\u001b[1;32m    343\u001b[0m                              f\"have shapes {x.shape} and {y.shape}\")\n\u001b[1;32m    344\u001b[0m         \u001b[0;32mif\u001b[0m \u001b[0mx\u001b[0m\u001b[0;34m.\u001b[0m\u001b[0mndim\u001b[0m \u001b[0;34m>\u001b[0m \u001b[0;36m2\u001b[0m \u001b[0;32mor\u001b[0m \u001b[0my\u001b[0m\u001b[0;34m.\u001b[0m\u001b[0mndim\u001b[0m \u001b[0;34m>\u001b[0m \u001b[0;36m2\u001b[0m\u001b[0;34m:\u001b[0m\u001b[0;34m\u001b[0m\u001b[0;34m\u001b[0m\u001b[0m\n",
            "\u001b[0;31mValueError\u001b[0m: x and y must have same first dimension, but have shapes (100,) and (60, 1)"
          ]
        },
        {
          "output_type": "display_data",
          "data": {
            "image/png": "[encoded data removed]",
            "text/plain": [
              "<Figure size 432x288 with 1 Axes>"
            ]
          },
          "metadata": {
            "tags": []
          }
        }
      ]
    },
    {
      "cell_type": "code",
      "metadata": {
        "colab": {
          "base_uri": "https://localhost:8080/",
          "height": 282
        },
        "id": "RLnPPaovCOyK",
        "outputId": "04d35e58-d110-475f-99be-72facb2deb8b"
      },
      "source": [
        "df3=df1.tolist()\n",
        "df3.extend(lst_output)\n",
        "plt.plot(df3[9000:])"
      ],
      "execution_count": null,
      "outputs": [
        {
          "output_type": "execute_result",
          "data": {
            "text/plain": [
              "[<matplotlib.lines.Line2D at 0x7f89406f2f98>]"
            ]
          },
          "metadata": {
            "tags": []
          },
          "execution_count": 122
        },
        {
          "output_type": "display_data",
          "data": {
            "image/png": "[encoded data removed]",
            "text/plain": [
              "<Figure size 432x288 with 1 Axes>"
            ]
          },
          "metadata": {
            "tags": []
          }
        }
      ]
    },
    {
      "cell_type": "code",
      "metadata": {
        "id": "Nyt7rO-sCgOF"
      },
      "source": [
        "df3=scaler.inverse_transform(df3).tolist()"
      ],
      "execution_count": null,
      "outputs": []
    },
    {
      "cell_type": "code",
      "metadata": {
        "colab": {
          "base_uri": "https://localhost:8080/",
          "height": 282
        },
        "id": "Zwz4tHrjCkRk",
        "outputId": "5537dac3-2051-4ef8-8c9c-67526131123e"
      },
      "source": [
        "plt.plot(df3)"
      ],
      "execution_count": null,
      "outputs": [
        {
          "output_type": "execute_result",
          "data": {
            "text/plain": [
              "[<matplotlib.lines.Line2D at 0x7f893bff83c8>]"
            ]
          },
          "metadata": {
            "tags": []
          },
          "execution_count": 124
        },
        {
          "output_type": "display_data",
          "data": {
            "image/png": "[encoded data removed]",
            "text/plain": [
              "<Figure size 432x288 with 1 Axes>"
            ]
          },
          "metadata": {
            "tags": []
          }
        }
      ]
    },
    {
      "cell_type": "code",
      "metadata": {
        "id": "2-rit0GwCm8A"
      },
      "source": [
        ""
      ],
      "execution_count": null,
      "outputs": []
    }
  ]
}